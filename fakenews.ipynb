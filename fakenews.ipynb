{
 "cells": [
  {
   "cell_type": "code",
   "execution_count": 3,
   "id": "30554bd4",
   "metadata": {},
   "outputs": [],
   "source": [
    "import streamlit as st\n",
    "import pickle\n",
    "\n",
    "filename = 'model.pkl'\n",
    "pickle_in = open(filename, 'rb')\n",
    "loaded_model = pickle.load(pickle_in)\n",
    "\n",
    "vectfilename = 'vect.pkl'\n",
    "pickle_in = open(vectfilename, 'rb')\n",
    "loaded_vect = pickle.load(pickle_in)"
   ]
  },
  {
   "cell_type": "code",
   "execution_count": 4,
   "id": "54aa4610",
   "metadata": {},
   "outputs": [],
   "source": [
    "def checkNews(txt):\n",
    "    if(txt!=''):\n",
    "        vectTxt = loaded_vect.transform([txt])\n",
    "        if(loaded_model.predict(vectTxt)):\n",
    "            st.write('Fake News!')\n",
    "        else:\n",
    "            st.write(\"Authentic News!\")"
   ]
  },
  {
   "cell_type": "code",
   "execution_count": 5,
   "id": "3f5c242d",
   "metadata": {},
   "outputs": [
    {
     "name": "stderr",
     "output_type": "stream",
     "text": [
      "2021-08-01 18:49:17.832 \n",
      "  \u001b[33m\u001b[1mWarning:\u001b[0m to view this Streamlit app on a browser, run it with the following\n",
      "  command:\n",
      "\n",
      "    streamlit run C:\\Users\\khush\\Anaconda3\\lib\\site-packages\\ipykernel_launcher.py [ARGUMENTS]\n"
     ]
    },
    {
     "ename": "ModuleNotFoundError",
     "evalue": "No module named 'htbuilder'",
     "output_type": "error",
     "traceback": [
      "\u001b[1;31m---------------------------------------------------------------------------\u001b[0m",
      "\u001b[1;31mModuleNotFoundError\u001b[0m                       Traceback (most recent call last)",
      "\u001b[1;32m<ipython-input-5-af9ae37f8031>\u001b[0m in \u001b[0;36m<module>\u001b[1;34m\u001b[0m\n\u001b[0;32m      4\u001b[0m \u001b[0mcheckNews\u001b[0m\u001b[1;33m(\u001b[0m\u001b[0mnews\u001b[0m\u001b[1;33m)\u001b[0m\u001b[1;33m\u001b[0m\u001b[1;33m\u001b[0m\u001b[0m\n\u001b[0;32m      5\u001b[0m \u001b[1;33m\u001b[0m\u001b[0m\n\u001b[1;32m----> 6\u001b[1;33m \u001b[1;32mfrom\u001b[0m \u001b[0mhtbuilder\u001b[0m \u001b[1;32mimport\u001b[0m \u001b[0mHtmlElement\u001b[0m\u001b[1;33m,\u001b[0m \u001b[0mdiv\u001b[0m\u001b[1;33m,\u001b[0m \u001b[0mul\u001b[0m\u001b[1;33m,\u001b[0m \u001b[0mli\u001b[0m\u001b[1;33m,\u001b[0m \u001b[0mbr\u001b[0m\u001b[1;33m,\u001b[0m \u001b[0mhr\u001b[0m\u001b[1;33m,\u001b[0m \u001b[0ma\u001b[0m\u001b[1;33m,\u001b[0m \u001b[0mp\u001b[0m\u001b[1;33m,\u001b[0m \u001b[0mimg\u001b[0m\u001b[1;33m,\u001b[0m \u001b[0mstyles\u001b[0m\u001b[1;33m,\u001b[0m \u001b[0mclasses\u001b[0m\u001b[1;33m,\u001b[0m \u001b[0mfonts\u001b[0m\u001b[1;33m\u001b[0m\u001b[1;33m\u001b[0m\u001b[0m\n\u001b[0m\u001b[0;32m      7\u001b[0m \u001b[1;32mfrom\u001b[0m \u001b[0mhtbuilder\u001b[0m\u001b[1;33m.\u001b[0m\u001b[0munits\u001b[0m \u001b[1;32mimport\u001b[0m \u001b[0mpercent\u001b[0m\u001b[1;33m,\u001b[0m \u001b[0mpx\u001b[0m\u001b[1;33m\u001b[0m\u001b[1;33m\u001b[0m\u001b[0m\n\u001b[0;32m      8\u001b[0m \u001b[1;32mfrom\u001b[0m \u001b[0mhtbuilder\u001b[0m\u001b[1;33m.\u001b[0m\u001b[0mfuncs\u001b[0m \u001b[1;32mimport\u001b[0m \u001b[0mrgba\u001b[0m\u001b[1;33m,\u001b[0m \u001b[0mrgb\u001b[0m\u001b[1;33m\u001b[0m\u001b[1;33m\u001b[0m\u001b[0m\n",
      "\u001b[1;31mModuleNotFoundError\u001b[0m: No module named 'htbuilder'"
     ]
    }
   ],
   "source": [
    "st.title('Fake News Detection System')\n",
    "\n",
    "news = st.text_area('Enter news:')\n",
    "checkNews(news)\n",
    "\n",
    "from htbuilder import HtmlElement, div, ul, li, br, hr, a, p, img, styles, classes, fonts\n",
    "from htbuilder.units import percent, px\n",
    "from htbuilder.funcs import rgba, rgb\n",
    "\n",
    "\n",
    "def image(src_as_string, **style):\n",
    "    return img(src=src_as_string, style=styles(**style))\n",
    "\n",
    "\n",
    "def link(link, text, **style):\n",
    "    return a(_href=link, _target=\"_blank\", style=styles(**style))(text)\n",
    "\n",
    "\n",
    "def layout(*args):\n",
    "\n",
    "    style = \"\"\"\n",
    "    <style>\n",
    "      # MainMenu {visibility: hidden;}\n",
    "      footer {visibility: hidden;}\n",
    "     .stApp { bottom: 105px; }\n",
    "    </style>\n",
    "    \"\"\"\n",
    "\n",
    "    style_div = styles(\n",
    "        position=\"fixed\",\n",
    "        left=0,\n",
    "        bottom=0,\n",
    "        margin=px(0, 0, 0, 0),\n",
    "        width=percent(100),\n",
    "        color=\"#F63366\",\n",
    "        text_align=\"center\",\n",
    "        height=\"auto\",\n",
    "        opacity=1\n",
    "    )\n",
    "\n",
    "    style_hr = styles(\n",
    "        display=\"block\",\n",
    "        margin=px(8, 8, \"auto\", \"auto\"),\n",
    "        border_width=px(1)\n",
    "    )\n",
    "\n",
    "    body = p()\n",
    "    foot = div(\n",
    "        style=style_div\n",
    "    )(\n",
    "        hr(\n",
    "            style=style_hr\n",
    "        ),\n",
    "        body\n",
    "    )\n",
    "\n",
    "    st.markdown(style, unsafe_allow_html=True)\n",
    "\n",
    "    for arg in args:\n",
    "        if isinstance(arg, str):\n",
    "            body(arg)\n",
    "\n",
    "        elif isinstance(arg, HtmlElement):\n",
    "            body(arg)\n",
    "\n",
    "    st.markdown(str(foot), unsafe_allow_html=True)\n",
    "\n",
    "\n",
    "def footer():\n",
    "    myargs = [\n",
    "        \"Made in \",\n",
    "        image('https://assets.website-files.com/5dc3b47ddc6c0c2a1af74ad0/5e181828ba9f9e92b6ebc6e7_RGB_Logomark_Color_Light_Bg.png',\n",
    "              width=px(25), height=px(25)),\n",
    "        \" by imt-02\",\n",
    "        br(),\n",
    "        link(\"https://github.com/alooperalta/Fake-News-Detection-System\", image('https://github.com/alooperalta/Fake-News-Detection-System/blob/main/gitLogo.png?raw=true',height=\"40px\")),\n",
    "    ]\n",
    "    layout(*myargs)\n",
    "\n",
    "\n",
    "if __name__ == \"__main__\":\n",
    "    footer()"
   ]
  }
 ],
 "metadata": {
  "kernelspec": {
   "display_name": "Python 3",
   "language": "python",
   "name": "python3"
  },
  "language_info": {
   "codemirror_mode": {
    "name": "ipython",
    "version": 3
   },
   "file_extension": ".py",
   "mimetype": "text/x-python",
   "name": "python",
   "nbconvert_exporter": "python",
   "pygments_lexer": "ipython3",
   "version": "3.8.8"
  }
 },
 "nbformat": 4,
 "nbformat_minor": 5
}
